{
  "nbformat": 4,
  "nbformat_minor": 0,
  "metadata": {
    "colab": {
      "private_outputs": true,
      "provenance": [],
      "authorship_tag": "ABX9TyMyI1XodoCVBHJY4ktZx/dP",
      "include_colab_link": true
    },
    "kernelspec": {
      "name": "python3",
      "display_name": "Python 3"
    },
    "language_info": {
      "name": "python"
    }
  },
  "cells": [
    {
      "cell_type": "markdown",
      "metadata": {
        "id": "view-in-github",
        "colab_type": "text"
      },
      "source": [
        "<a href=\"https://colab.research.google.com/github/WellcomePeujio/Simulacion-Monte-Carlo-para-Ahorros/blob/main/Simulaci%C3%B3n_Monte_Carlo_para_Ahorros.ipynb\" target=\"_parent\"><img src=\"https://colab.research.google.com/assets/colab-badge.svg\" alt=\"Open In Colab\"/></a>"
      ]
    },
    {
      "cell_type": "markdown",
      "source": [
        "# Simulación Monte Carlo para Ahorros\n",
        "\n",
        "**Título**: \"¿Cuánto podrías ahorrar en 10 años?\"\n",
        "\n",
        "**Problema**: Un usuario ahorra $200 mensuales en una cuenta con una tasa de interés anual promedio del 6%, pero la tasa puede variar entre el 4% y el 8%.\n",
        "\n",
        "**Preguntas**:\n",
        "\n",
        "1. Simula los posibles resultados después de 10 años usando Monte Carlo.\n",
        "\n",
        "2. Calcula el valor promedio y el rango esperado.\n",
        "\n",
        "3. Genera gráficos de simulación que muestren escenarios optimistas y pesimistas.\n"
      ],
      "metadata": {
        "id": "aUb5Nn9t-uV2"
      }
    },
    {
      "cell_type": "markdown",
      "source": [
        "# Resolución de la Simulación Monte Carlo para Ahorros\n",
        "\n",
        "## Paso 1: Fórmula del Interés Compuesto\n",
        "\n",
        "La fórmula del valor futuro $(FV)$ para una serie de pagos periódicos con interés compuesto es:\n",
        "\n",
        "$$\n",
        "FV = P \\cdot \\frac{(1 + r/n)^{n \\cdot t} - 1}{r/n}\n",
        "$$\n",
        "\n",
        "Donde:\n",
        "- $P$: Aporte periódico ($200$ mensuales).\n",
        "- $r$: Tasa de interés anual (varía entre $0.04$ y $0.08$ en la simulación).\n",
        "- $n$: Frecuencia de capitalización ($12$ meses al año).\n",
        "- $t$: Tiempo en años ($10$ años en este caso).\n",
        "\n",
        "---\n",
        "\n",
        "## Paso 2: Simulación Monte Carlo\n",
        "\n",
        "El objetivo es simular posibles resultados del ahorro en 10 años considerando que la tasa de interés varía aleatoriamente entre $4\\%$ y $8\\%$. Usaremos números aleatorios para representar estas variaciones en la tasa.\n",
        "\n",
        "1. Generamos $N$ simulaciones aleatorias para la tasa de interés $(r)$ en el rango de $0.04$ a $0.08$.\n",
        "2. Calculamos el valor futuro $(FV)$ para cada simulación usando la fórmula de interés compuesto.\n",
        "3. Analizamos los resultados para obtener:\n",
        "   - El valor promedio del ahorro después de $10$ años.\n",
        "   - El rango esperado (valores mínimo y máximo).\n",
        "\n",
        "---\n",
        "\n",
        "## Paso 3: Representación Matemática para la Simulación\n",
        "\n",
        "**Tasa de Interés Aleatoria:**\n",
        "\n",
        "Generamos $N$ valores aleatorios dentro del rango:\n",
        "\n",
        "$$\n",
        "r_i \\sim \\text{Uniform}(0.04, 0.08)\n",
        "$$\n",
        "\n",
        "Donde $r_i$ es la tasa de interés para la $i$-ésima simulación.\n",
        "\n",
        "**Cálculo del Valor Futuro:**\n",
        "\n",
        "Para cada simulación:\n",
        "\n",
        "$$\n",
        "FV_i = P \\cdot \\frac{(1 + r_i/n)^{n \\cdot t} - 1}{r_i/n}\n",
        "$$\n",
        "\n",
        "**Promedio y Rango:**\n",
        "\n",
        "- Promedio:\n",
        "\n",
        "$$\n",
        "\\text{Promedio} = \\frac{1}{N} \\sum_{i=1}^N FV_i\n",
        "$$\n",
        "\n",
        "- Rango esperado:\n",
        "\n",
        "$$\n",
        "\\text{Mínimo} = \\min(FV_i), \\quad \\text{Máximo} = \\max(FV_i)\n",
        "$$\n",
        "\n",
        "---\n",
        "\n",
        "## Paso 4: Resultados Matemáticos\n",
        "\n",
        "1. Simulamos varios escenarios con tasas de interés entre $4\\%$ y $8\\%$.\n",
        "\n",
        "2. Calculamos el valor promedio del ahorro después de $10$ años.\n",
        "\n",
        "3. Determinamos el rango de valores posibles para los escenarios más optimistas y más pesimistas.\n"
      ],
      "metadata": {
        "id": "NKIrjJTR-09b"
      }
    },
    {
      "cell_type": "code",
      "source": [
        "import numpy as np\n",
        "import matplotlib.pyplot as plt\n",
        "\n",
        "# Datos del problema\n",
        "P = 200  # Aporte mensual en dólares\n",
        "n = 12  # Frecuencia de capitalización (12 meses al año)\n",
        "t = 10  # Tiempo en años\n",
        "simulaciones = 10000  # Número de simulaciones\n",
        "r_min, r_max = 0.04, 0.08  # Rango de tasas de interés anual (4% a 8%)\n",
        "\n",
        "# Generar tasas de interés aleatorias para la simulación\n",
        "tasas_aleatorias = np.random.uniform(r_min, r_max, simulaciones)\n",
        "\n",
        "# Cálculo del valor futuro para cada simulación\n",
        "valores_futuros = [\n",
        "    P * ((1 + r / n) ** (n * t) - 1) / (r / n)\n",
        "    for r in tasas_aleatorias\n",
        "]\n",
        "\n",
        "# Estadísticas de los resultados\n",
        "valor_promedio = np.mean(valores_futuros)\n",
        "valor_minimo = np.min(valores_futuros)\n",
        "valor_maximo = np.max(valores_futuros)\n",
        "\n",
        "# Gráfica de los resultados de la simulación\n",
        "plt.figure(figsize=(12, 6))\n",
        "plt.hist(valores_futuros, bins=50, color=\"skyblue\", edgecolor=\"black\", alpha=0.7)\n",
        "plt.axvline(valor_promedio, color=\"red\", linestyle=\"--\", label=f\"Promedio: ${valor_promedio:,.2f}\")\n",
        "plt.axvline(valor_minimo, color=\"green\", linestyle=\"--\", label=f\"Mínimo: ${valor_minimo:,.2f}\")\n",
        "plt.axvline(valor_maximo, color=\"blue\", linestyle=\"--\", label=f\"Máximo: ${valor_maximo:,.2f}\")\n",
        "plt.title(\"Distribución de Valores Futuros (Monte Carlo)\")\n",
        "plt.xlabel(\"Valor Futuro del Ahorro ($)\")\n",
        "plt.ylabel(\"Frecuencia\")\n",
        "plt.legend()\n",
        "plt.grid(True)\n",
        "plt.show()\n"
      ],
      "metadata": {
        "id": "r5F4Sct__CkT"
      },
      "execution_count": null,
      "outputs": []
    }
  ]
}